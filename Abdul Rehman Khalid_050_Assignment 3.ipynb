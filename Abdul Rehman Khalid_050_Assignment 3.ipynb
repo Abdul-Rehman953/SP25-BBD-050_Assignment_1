{
 "cells": [
  {
   "cell_type": "code",
   "execution_count": 4,
   "id": "b2a368ce-52d8-41f4-96fe-ea1f9e8f0619",
   "metadata": {},
   "outputs": [
    {
     "name": "stdout",
     "output_type": "stream",
     "text": [
      "{'name': 'Abdul Rehman', 'age': 19, 'city': 'Lahore', 'Hobbies': 'cricket'}\n"
     ]
    }
   ],
   "source": [
    "my_dict = {'name': 'Abdul Rehman','age': 19,'city':'Lahore', 'Hobbies': 'cricket'}\n",
    "print(my_dict)"
   ]
  },
  {
   "cell_type": "code",
   "execution_count": 11,
   "id": "b90285d2-7971-43d3-beef-1f95408a0196",
   "metadata": {},
   "outputs": [
    {
     "name": "stdout",
     "output_type": "stream",
     "text": [
      "Current Inventory:\n",
      "apple 15\n",
      "banana 7\n",
      "orange 6\n"
     ]
    }
   ],
   "source": [
    "inventory = {\"apple\": 10,\"banana\": 5,\"orange\": 9}\n",
    "inventory[\"apple\"] += 5\n",
    "inventory[\"banana\"] += 2\n",
    "inventory[\"orange\"] -= 3\n",
    "print(\"Current Inventory:\")\n",
    "for item, quantity in inventory.items():\n",
    "    print(item, quantity)"
   ]
  },
  {
   "cell_type": "code",
   "execution_count": 12,
   "id": "b34a8402-b954-4cbc-9570-41e73dc70920",
   "metadata": {},
   "outputs": [
    {
     "name": "stdout",
     "output_type": "stream",
     "text": [
      "{'Hello': 1, 'world': 2, 'This': 1, 'is': 1, 'a': 1, 'new': 1}\n"
     ]
    }
   ],
   "source": [
    "text = \"Hello world This is a new world\"\n",
    "words = text.split()\n",
    "frequency = {}\n",
    "for word in words:\n",
    "    if word in frequency:\n",
    "        frequency[word]  +=1\n",
    "    else:\n",
    "        frequency[word] =1\n",
    "print(frequency)"
   ]
  },
  {
   "cell_type": "code",
   "execution_count": 18,
   "id": "f40603ab-eddb-4384-87f4-591a12f6c0f9",
   "metadata": {},
   "outputs": [
    {
     "name": "stdout",
     "output_type": "stream",
     "text": [
      "Most popular category: Electronics\n"
     ]
    }
   ],
   "source": [
    "orders = [\n",
    "    {\"customer\": \"John\", \"category\": \"Electronics\"},\n",
    "    {\"customer\": \"Alice\", \"category\": \"Clothing\"},\n",
    "    {\"customer\": \"Bob\", \"category\": \"Electronics\"},\n",
    "    {\"customer\": \"Diana\", \"category\": \"Groceries\"},\n",
    "    {\"customer\": \"Eve\", \"category\": \"Electronics\"},\n",
    "    {\"customer\": \"Frank\", \"category\": \"Clothing\"}]\n",
    "category_count = {}\n",
    "for order in orders:\n",
    "    category = order[\"category\"]\n",
    "    category_count[category] = category_count.get(category, 0) + 1\n",
    "most_popular = max(category_count, key=category_count.get)\n",
    "print(\"Most popular category:\", most_popular)"
   ]
  },
  {
   "cell_type": "code",
   "execution_count": 2,
   "id": "f00f4fc7-e611-4ec4-879a-2b2ca6ff4d08",
   "metadata": {},
   "outputs": [
    {
     "name": "stdout",
     "output_type": "stream",
     "text": [
      "Average grade: 86.25\n"
     ]
    }
   ],
   "source": [
    "grades = {\"Alice\": 85,\"Bob\": 90,\"Charlie\": 78,\"Diana\": 92}\n",
    "average = sum(grades.values()) / len(grades)\n",
    "print(\"Average grade:\", average)"
   ]
  },
  {
   "cell_type": "code",
   "execution_count": 5,
   "id": "b478a799-0cfc-46d2-99f6-6b16ec9963ad",
   "metadata": {},
   "outputs": [
    {
     "name": "stdout",
     "output_type": "stream",
     "text": [
      "Total value: 12000\n"
     ]
    }
   ],
   "source": [
    "inventory = {'Laptop': [5, 800], 'Phone': [12, 500]}\n",
    "inventory['Tablet'] = [10, 300]\n",
    "inventory['Phone'][0] -= 2\n",
    "total = sum(q * p for q, p in inventory.values())\n",
    "print(\"Total value:\", total)\n",
    "for item, (q, _) in inventory.items():\n",
    "    if q < 5:\n",
    "        print(\"Low stock:\", item)"
   ]
  },
  {
   "cell_type": "code",
   "execution_count": 6,
   "id": "cd4da305-efd8-419a-ae82-d77b4df10aba",
   "metadata": {},
   "outputs": [
    {
     "name": "stdout",
     "output_type": "stream",
     "text": [
      "Total: 38.52\n"
     ]
    }
   ],
   "source": [
    "products = {'Book': [20, 50], 'Pen': [2, 200]}\n",
    "cart = {}\n",
    "cart['Book'] = 2\n",
    "products['Book'][1] -= 2\n",
    "subtotal = sum(products[item][0] * qty for item, qty in cart.items())\n",
    "total = subtotal * 0.9 * 1.07\n",
    "print(\"Total:\", round(total, 2))"
   ]
  },
  {
   "cell_type": "code",
   "execution_count": 8,
   "id": "20303a6c-d6e6-4083-b94c-b70375ba72f7",
   "metadata": {},
   "outputs": [
    {
     "name": "stdout",
     "output_type": "stream",
     "text": [
      "Alice Average: 81.5\n",
      "Bob Average: 90.0\n",
      "Charlie Average: 85.5\n",
      "Top in first subject: Bob\n",
      "Sorted by average: [('Bob', 90.0), ('Charlie', 85.5), ('Alice', 81.5)]\n"
     ]
    }
   ],
   "source": [
    "grades = {'Alice': [85, 78],'Bob': [92, 88],'Charlie': [76, 95]}\n",
    "for name in grades:\n",
    "    avg = sum(grades[name]) / len(grades[name])\n",
    "    print(name, \"Average:\", avg)\n",
    "highest = 0\n",
    "topper = ''\n",
    "for name in grades:\n",
    "    if grades[name][0] > highest:\n",
    "        highest = grades[name][0]\n",
    "        topper = name\n",
    "print(\"Top in first subject:\", topper)\n",
    "avg_list = []\n",
    "for name in grades:\n",
    "    avg = sum(grades[name]) / len(grades[name])\n",
    "    avg_list.append((name, avg))\n",
    "avg_list.sort(key=lambda x: x[1], reverse=True)\n",
    "print(\"Sorted by average:\", avg_list)"
   ]
  }
 ],
 "metadata": {
  "kernelspec": {
   "display_name": "Python 3 (ipykernel)",
   "language": "python",
   "name": "python3"
  },
  "language_info": {
   "codemirror_mode": {
    "name": "ipython",
    "version": 3
   },
   "file_extension": ".py",
   "mimetype": "text/x-python",
   "name": "python",
   "nbconvert_exporter": "python",
   "pygments_lexer": "ipython3",
   "version": "3.12.7"
  }
 },
 "nbformat": 4,
 "nbformat_minor": 5
}
