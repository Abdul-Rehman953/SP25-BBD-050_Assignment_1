{
 "cells": [
  {
   "cell_type": "code",
   "execution_count": 1,
   "id": "8ea6fb34-4d75-4463-a196-5780ee71cb35",
   "metadata": {},
   "outputs": [
    {
     "name": "stdin",
     "output_type": "stream",
     "text": [
      "Enter your age:  20\n",
      "Enter your income in dollars:  300\n"
     ]
    },
    {
     "name": "stdout",
     "output_type": "stream",
     "text": [
      "Not eligible.\n"
     ]
    }
   ],
   "source": [
    "age = int(input(\"Enter your age: \"))\n",
    "income = float(input(\"Enter your income in dollars: \"))\n",
    "if age >= 21 and income > 25000:\n",
    "    print(\"Eligible for membership.\")\n",
    "else:\n",
    "    print(\"Not eligible.\")"
   ]
  },
  {
   "cell_type": "code",
   "execution_count": 2,
   "id": "e9db6907-2b25-458e-a1f9-0fef6d730445",
   "metadata": {},
   "outputs": [
    {
     "name": "stdin",
     "output_type": "stream",
     "text": [
      "Enter a number:  10\n"
     ]
    },
    {
     "name": "stdout",
     "output_type": "stream",
     "text": [
      "Buzz\n"
     ]
    }
   ],
   "source": [
    "number = int(input(\"Enter a number: \"))\n",
    "if number % 3 == 0 and number % 5 == 0:\n",
    "    print(\"FizzBuzz\")\n",
    "elif number % 3 == 0:\n",
    "    print(\"Fizz\")\n",
    "elif number % 5 == 0:\n",
    "    print(\"Buzz\")\n",
    "else:\n",
    "    print(number)\n"
   ]
  },
  {
   "cell_type": "code",
   "execution_count": 3,
   "id": "39d2a0b1-5c83-48de-966e-6eb7c1bd337f",
   "metadata": {},
   "outputs": [
    {
     "name": "stdin",
     "output_type": "stream",
     "text": [
      "Enter a single character:  a\n"
     ]
    },
    {
     "name": "stdout",
     "output_type": "stream",
     "text": [
      "Vowel\n"
     ]
    }
   ],
   "source": [
    "char = input(\"Enter a single character: \")\n",
    "if len(char) != 1:\n",
    "    print(\"Please enter exactly one character.\")\n",
    "else:\n",
    "    if char.lower() in 'aeiou':\n",
    "        print(\"Vowel\")\n",
    "    elif char.isalpha():\n",
    "        print(\"Consonant\")\n",
    "    elif char.isdigit():\n",
    "        print(\"Digit\")\n",
    "    else:\n",
    "        print(\"Special character\")\n"
   ]
  },
  {
   "cell_type": "code",
   "execution_count": 4,
   "id": "58ca8028-3ddc-4a32-b1fe-9c1e356898b2",
   "metadata": {},
   "outputs": [
    {
     "name": "stdin",
     "output_type": "stream",
     "text": [
      "Enter the current day (e.g., Monday, Tuesday):  monday\n"
     ]
    },
    {
     "name": "stdout",
     "output_type": "stream",
     "text": [
      "Time to work!\n"
     ]
    }
   ],
   "source": [
    "day = input(\"Enter the current day (e.g., Monday, Tuesday): \")\n",
    "day = day.strip().lower()\n",
    "if day == \"saturday\" or day == \"sunday\":\n",
    "    print(\"Enjoy your weekend!\")\n",
    "elif day == \"monday\" or day == \"tuesday\" or day == \"wednesday\" or day == \"thursday\" or day == \"friday\":\n",
    "    print(\"Time to work!\")\n",
    "else:\n",
    "    print(\"Invalid day entered.\")\n"
   ]
  },
  {
   "cell_type": "code",
   "execution_count": 5,
   "id": "47950361-3c43-4d08-a0b9-09df743b528a",
   "metadata": {},
   "outputs": [
    {
     "name": "stdin",
     "output_type": "stream",
     "text": [
      "Enter your years of service:  5\n",
      "Enter your current salary:  25000\n"
     ]
    },
    {
     "name": "stdout",
     "output_type": "stream",
     "text": [
      "Your bonus is: $2500.00\n"
     ]
    }
   ],
   "source": [
    "years_of_service = int(input(\"Enter your years of service: \"))\n",
    "salary = float(input(\"Enter your current salary: \"))\n",
    "if years_of_service >= 10:\n",
    "    bonus_percentage = 0.20\n",
    "elif years_of_service >= 5:\n",
    "    bonus_percentage = 0.10\n",
    "else:\n",
    "    bonus_percentage = 0.05\n",
    "bonus = salary * bonus_percentage\n",
    "print(f\"Your bonus is: ${bonus:.2f}\")\n"
   ]
  },
  {
   "cell_type": "code",
   "execution_count": 6,
   "id": "9db59841-7476-4c31-8708-3510f3f1813a",
   "metadata": {},
   "outputs": [
    {
     "ename": "IndentationError",
     "evalue": "unexpected indent (3021868926.py, line 4)",
     "output_type": "error",
     "traceback": [
      "\u001b[1;36m  Cell \u001b[1;32mIn[6], line 4\u001b[1;36m\u001b[0m\n\u001b[1;33m    if number % 2 == 0:\u001b[0m\n\u001b[1;37m    ^\u001b[0m\n\u001b[1;31mIndentationError\u001b[0m\u001b[1;31m:\u001b[0m unexpected indent\n"
     ]
    }
   ],
   "source": [
    "number = int(input(\"Enter a number: \"))\n",
    "if number > 0:\n",
    "    print(\"The number is positive.\")\n",
    "        if number % 2 == 0:\n",
    "        print(\"It is even.\")\n",
    "    else:\n",
    "        print(\"It is odd.\")\n",
    "elif number < 0:\n",
    "    print(\"The number is negative.\")\n",
    "else:\n",
    "    print(\"The number is zero.\")\n"
   ]
  },
  {
   "cell_type": "code",
   "execution_count": null,
   "id": "03e6e9e0-91b7-43f7-b79b-6cc0377900d5",
   "metadata": {},
   "outputs": [],
   "source": []
  }
 ],
 "metadata": {
  "kernelspec": {
   "display_name": "Python 3 (ipykernel)",
   "language": "python",
   "name": "python3"
  },
  "language_info": {
   "codemirror_mode": {
    "name": "ipython",
    "version": 3
   },
   "file_extension": ".py",
   "mimetype": "text/x-python",
   "name": "python",
   "nbconvert_exporter": "python",
   "pygments_lexer": "ipython3",
   "version": "3.12.7"
  }
 },
 "nbformat": 4,
 "nbformat_minor": 5
}
