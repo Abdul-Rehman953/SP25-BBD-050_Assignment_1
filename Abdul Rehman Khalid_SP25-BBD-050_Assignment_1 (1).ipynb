{
 "cells": [
  {
   "cell_type": "markdown",
   "id": "9a4cf525-bf42-4203-9c79-151c860de497",
   "metadata": {},
   "source": [
    "##Assignment 1"
   ]
  },
  {
   "cell_type": "markdown",
   "id": "fcc2192c-eb90-4ea8-ae77-178f009670b6",
   "metadata": {},
   "source": [
    "##Practice Questions\n"
   ]
  },
  {
   "cell_type": "markdown",
   "id": "886660e6-0558-4153-bdd8-1d08560af2cb",
   "metadata": {},
   "source": [
    "#1. Write a for loop to print all even numbers from 2 to 20."
   ]
  },
  {
   "cell_type": "code",
   "execution_count": 1,
   "id": "f34fa4be-80bb-437a-b810-603c9a4e2f52",
   "metadata": {},
   "outputs": [
    {
     "name": "stdout",
     "output_type": "stream",
     "text": [
      "2\n",
      "4\n",
      "6\n",
      "8\n",
      "10\n",
      "12\n",
      "14\n",
      "16\n",
      "18\n",
      "20\n"
     ]
    }
   ],
   "source": [
    "for number in range(2,21,2):\n",
    "    print(number)"
   ]
  },
  {
   "cell_type": "markdown",
   "id": "451bd3da-bc32-4810-8259-316205e2a08f",
   "metadata": {},
   "source": [
    "#2. Create a list of names and use a for loop to print each name in uppercase."
   ]
  },
  {
   "cell_type": "code",
   "execution_count": 3,
   "id": "b35feab6-bacb-424f-987c-8e242d53deed",
   "metadata": {},
   "outputs": [
    {
     "name": "stdout",
     "output_type": "stream",
     "text": [
      "ALI\n",
      "AHMAD\n",
      "UMAR\n",
      "BILAL\n"
     ]
    }
   ],
   "source": [
    "names=['Ali','Ahmad','Umar','Bilal']\n",
    "for name in names:\n",
    "    print(name.upper())"
   ]
  },
  {
   "cell_type": "markdown",
   "id": "b5d60032-058c-4bbe-b8ed-5fef892948f2",
   "metadata": {},
   "source": [
    "#3. Use a for loop with range() to print numbers from 10 to 1 in reverse order."
   ]
  },
  {
   "cell_type": "code",
   "execution_count": 6,
   "id": "fdd4d333-7b28-4fef-ab87-20cf8e531924",
   "metadata": {},
   "outputs": [
    {
     "name": "stdout",
     "output_type": "stream",
     "text": [
      "10\n",
      "9\n",
      "8\n",
      "7\n",
      "6\n",
      "5\n",
      "4\n",
      "3\n",
      "2\n"
     ]
    }
   ],
   "source": [
    "for number in range(10,1,-1):\n",
    "    print(number)"
   ]
  },
  {
   "cell_type": "markdown",
   "id": "a833cfd8-224c-4aa9-8b14-1d795ec71f26",
   "metadata": {},
   "source": [
    "#4. Iterate through a list of integers and print only the numbers that are divisible by 3."
   ]
  },
  {
   "cell_type": "code",
   "execution_count": 9,
   "id": "fe9d2bdb-7e84-4c44-9a78-1dc4eca2f5e1",
   "metadata": {},
   "outputs": [
    {
     "name": "stdout",
     "output_type": "stream",
     "text": [
      "12\n",
      "18\n"
     ]
    }
   ],
   "source": [
    "integers=[5,12,18,20,23,25]\n",
    "for int in integers:\n",
    "    if int % 3 == 0:\n",
    "        print(int)"
   ]
  },
  {
   "cell_type": "markdown",
   "id": "7b463623-981d-4e71-a895-88d4c8891949",
   "metadata": {},
   "source": [
    "#5. Write a loop that prints the squares of numbers from 1 to 10."
   ]
  },
  {
   "cell_type": "code",
   "execution_count": 11,
   "id": "c45900bf-6cbb-4a78-9305-190a6d072811",
   "metadata": {},
   "outputs": [
    {
     "name": "stdout",
     "output_type": "stream",
     "text": [
      "1\n",
      "4\n",
      "9\n",
      "16\n",
      "25\n",
      "36\n",
      "49\n",
      "64\n",
      "81\n",
      "100\n"
     ]
    }
   ],
   "source": [
    "numbers=[1,2,3,4,5,6,7,8,9,10]\n",
    "for number in numbers:\n",
    "    square=number**2\n",
    "    print(square)"
   ]
  },
  {
   "cell_type": "markdown",
   "id": "a528de01-76be-4b64-9515-ca5f6967e38e",
   "metadata": {},
   "source": [
    "#6. Given a list of temperatures in Celsius, use a for loop to convert each to Fahrenheit."
   ]
  },
  {
   "cell_type": "code",
   "execution_count": 5,
   "id": "0c4ff6f5-8131-476c-b310-fbeff66616fa",
   "metadata": {},
   "outputs": [
    {
     "name": "stdout",
     "output_type": "stream",
     "text": [
      "[32.0, 50.0, 68.0, 86.0, 104.0]\n"
     ]
    }
   ],
   "source": [
    "celsius_temps = [0, 10, 20, 30, 40]\n",
    "fahrenheit_temps = [(temp * 9/5) + 32 for temp in celsius_temps]\n",
    "print(fahrenheit_temps)"
   ]
  },
  {
   "cell_type": "markdown",
   "id": "95fb4933-94e6-49bc-9348-ac1603d0b424",
   "metadata": {},
   "source": [
    "#7. Create a for loop that prints the multiplication table of 5."
   ]
  },
  {
   "cell_type": "code",
   "execution_count": 6,
   "id": "d14b734a-3b84-4aba-8502-8e5dee8890a8",
   "metadata": {},
   "outputs": [
    {
     "name": "stdout",
     "output_type": "stream",
     "text": [
      "5*1=5\n",
      "5*2=10\n",
      "5*3=15\n",
      "5*4=20\n",
      "5*5=25\n",
      "5*6=30\n",
      "5*7=35\n",
      "5*8=40\n",
      "5*9=45\n",
      "5*10=50\n"
     ]
    }
   ],
   "source": [
    "for i in range (1,11):\n",
    "    print(f\"5*{i}={5*i}\")\n"
   ]
  },
  {
   "cell_type": "markdown",
   "id": "75b81b2d-2cf8-4cf9-9735-166540713268",
   "metadata": {},
   "source": [
    "#8. Write a program to find the sum of all numbers in a list using a for loop."
   ]
  },
  {
   "cell_type": "code",
   "execution_count": 16,
   "id": "507c9cac-5b26-46fd-a581-7d7c1970b638",
   "metadata": {},
   "outputs": [
    {
     "name": "stdout",
     "output_type": "stream",
     "text": [
      "Sum of numbers: 105\n"
     ]
    }
   ],
   "source": [
    "number=[5,10,15,20,25,30]\n",
    "sum_result=0\n",
    "for number in numbers:\n",
    "    sum_result+=number\n",
    "print(\"Sum of numbers:\", sum_result)"
   ]
  },
  {
   "cell_type": "markdown",
   "id": "155c85af-11d7-40cd-b151-69f648ea98f0",
   "metadata": {},
   "source": [
    "#9. Use a for loop to iterate through a string and print each character separately."
   ]
  },
  {
   "cell_type": "code",
   "execution_count": 17,
   "id": "2d2a8991-2867-4317-aa55-976352be2c46",
   "metadata": {},
   "outputs": [
    {
     "name": "stdout",
     "output_type": "stream",
     "text": [
      "h\n",
      "e\n",
      "l\n",
      "l\n",
      "o\n",
      " \n",
      "w\n",
      "o\n",
      "r\n",
      "l\n",
      "d\n",
      "!\n"
     ]
    }
   ],
   "source": [
    "text=\"hello world!\"\n",
    "for character in text:\n",
    "    print(character)"
   ]
  },
  {
   "cell_type": "markdown",
   "id": "6d4fc590-37c9-46be-a5eb-40328101842e",
   "metadata": {},
   "source": [
    "#10. Create a list of words and use a for loop to print only the words with more than 5 letters."
   ]
  },
  {
   "cell_type": "code",
   "execution_count": 25,
   "id": "d431b1ef-02c1-44de-aea9-49cccdec634b",
   "metadata": {},
   "outputs": [
    {
     "name": "stdout",
     "output_type": "stream",
     "text": [
      "Banana\n",
      "Grapes\n",
      "Pineapple\n",
      "Orange\n"
     ]
    }
   ],
   "source": [
    "words=['Apple','Banana','Grapes','Pineapple','Orange','Peach']\n",
    "for word in words:\n",
    "    if len(word)>5:\n",
    "        print(word)"
   ]
  }
 ],
 "metadata": {
  "kernelspec": {
   "display_name": "Python 3 (ipykernel)",
   "language": "python",
   "name": "python3"
  },
  "language_info": {
   "codemirror_mode": {
    "name": "ipython",
    "version": 3
   },
   "file_extension": ".py",
   "mimetype": "text/x-python",
   "name": "python",
   "nbconvert_exporter": "python",
   "pygments_lexer": "ipython3",
   "version": "3.12.7"
  }
 },
 "nbformat": 4,
 "nbformat_minor": 5
}
