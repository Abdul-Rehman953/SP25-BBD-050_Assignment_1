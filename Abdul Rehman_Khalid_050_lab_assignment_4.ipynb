{
 "cells": [
  {
   "cell_type": "code",
   "execution_count": 5,
   "id": "a7660c45-8cf9-42c9-8ba0-dda3244ad18f",
   "metadata": {},
   "outputs": [
    {
     "name": "stdout",
     "output_type": "stream",
     "text": [
      "Hello, python learner!\n"
     ]
    }
   ],
   "source": [
    "#Question no 1\n",
    "def say_hello():\n",
    "    print(\"Hello, python learner!\")\n",
    "say_hello()"
   ]
  },
  {
   "cell_type": "code",
   "execution_count": 15,
   "id": "447f1f33-3019-42e3-ab58-b9fddda798c3",
   "metadata": {},
   "outputs": [
    {
     "name": "stdout",
     "output_type": "stream",
     "text": [
      "Hello, Alex! Welcome!\n"
     ]
    }
   ],
   "source": [
    "#Question no 2\n",
    "def greet_user(name):\n",
    "    print(f\"Hello, {name}! Welcome!\")\n",
    "greet_user(\"Alex\")"
   ]
  },
  {
   "cell_type": "code",
   "execution_count": 33,
   "id": "215a6fd4-bd3d-4cc3-bb4f-770550ef7dbb",
   "metadata": {},
   "outputs": [
    {
     "name": "stdout",
     "output_type": "stream",
     "text": [
      "I have a cat.\n",
      "My Cat's name is Simba.\n"
     ]
    }
   ],
   "source": [
    "#Question no 3\n",
    "def describe_pet(animal_type,pet_name):\n",
    "    print(f\"I have a {animal_type}.\")\n",
    "    print(f\"My {animal_type.title()}'s name is {pet_name.title()}.\")\n",
    "describe_pet(\"cat\",\"simba\")"
   ]
  },
  {
   "cell_type": "code",
   "execution_count": 35,
   "id": "c3add7a2-2f09-4019-a2e6-2e88aa43c5e3",
   "metadata": {},
   "outputs": [
    {
     "name": "stdout",
     "output_type": "stream",
     "text": [
      "I have a cat.\n",
      "My Cat's name is Rusty.\n"
     ]
    }
   ],
   "source": [
    "#Question no 4\n",
    "def describe_pet(pet_name,animal_type='cat'):\n",
    "    print(f\"I have a {animal_type}.\")\n",
    "    print(f\"My {animal_type.title()}'s name is {pet_name.title()}.\")\n",
    "describe_pet('Rusty')"
   ]
  },
  {
   "cell_type": "code",
   "execution_count": 47,
   "id": "6fe900f9-06b4-403c-9252-f48004ca223f",
   "metadata": {},
   "outputs": [
    {
     "data": {
      "text/plain": [
       "'Abdulrehman Khalid'"
      ]
     },
     "execution_count": 47,
     "metadata": {},
     "output_type": "execute_result"
    }
   ],
   "source": [
    "#Question no 5\n",
    "def get_formatted_name(first,last):\n",
    "    full_name = f\"{first} {last}\"\n",
    "    return full_name.title()\n",
    "get_formatted_name('abdulrehman','khalid')"
   ]
  },
  {
   "cell_type": "code",
   "execution_count": 63,
   "id": "27be0afd-2106-4184-844a-3c055303d9e1",
   "metadata": {},
   "outputs": [
    {
     "data": {
      "text/plain": [
       "'Mufti Abdulrehman Khalid'"
      ]
     },
     "execution_count": 63,
     "metadata": {},
     "output_type": "execute_result"
    }
   ],
   "source": [
    "#Question no 6\n",
    "def get_formatted_name(first,middle,last):\n",
    "    full_name = f\"{first} {middle} {last}\"\n",
    "    return full_name.title()\n",
    "get_formatted_name('mufti','abdulrehman','khalid')"
   ]
  },
  {
   "cell_type": "code",
   "execution_count": 103,
   "id": "b896192a-c7aa-49f8-ab81-dbfaf3315a4c",
   "metadata": {},
   "outputs": [
    {
     "data": {
      "text/plain": [
       "{'first': 'Abdulrehman', 'last': 'Khalid', 'age': '20'}"
      ]
     },
     "execution_count": 103,
     "metadata": {},
     "output_type": "execute_result"
    }
   ],
   "source": [
    "#Question no 7\n",
    "def build_person(first, last, age=None):\n",
    "    person = {'first': first, 'last': last}\n",
    "    if age is not None:\n",
    "        person['age'] = age\n",
    "    return person\n",
    "build_person('Abdulrehman', 'Khalid','20')"
   ]
  },
  {
   "cell_type": "code",
   "execution_count": 105,
   "id": "c03025ee-9711-4356-980c-d401ea202980",
   "metadata": {},
   "outputs": [
    {
     "name": "stdout",
     "output_type": "stream",
     "text": [
      "Hello, Abdulrehman!\n",
      "Hello, Khalid!\n",
      "Hello, Abdullah!\n"
     ]
    }
   ],
   "source": [
    "#Question no 8\n",
    "def greet_users(usernames):\n",
    "    for username in usernames:\n",
    "        print(f\"Hello, {username.title()}!\")\n",
    "user_list = ['Abdulrehman', 'Khalid', 'Abdullah']\n",
    "greet_users(user_list)"
   ]
  },
  {
   "cell_type": "code",
   "execution_count": 99,
   "id": "4af1d012-df99-4595-a70f-4a8762ab8b36",
   "metadata": {},
   "outputs": [
    {
     "name": "stdout",
     "output_type": "stream",
     "text": [
      "Making a pizza with the following toppings:\n",
      "pepperoni\n",
      "mushrooms\n",
      "green peppers\n"
     ]
    }
   ],
   "source": [
    "#Question no 9\n",
    "def make_pizza(*toppings):\n",
    "    print(\"Making a pizza with the following toppings:\")\n",
    "    for topping in toppings:\n",
    "        print(f\"{topping}\")\n",
    "make_pizza('pepperoni', 'mushrooms', 'green peppers')"
   ]
  },
  {
   "cell_type": "code",
   "execution_count": 113,
   "id": "d24f0666-832a-42f3-b096-f0405d2cea46",
   "metadata": {},
   "outputs": [
    {
     "name": "stdout",
     "output_type": "stream",
     "text": [
      "{'first_name': 'albert', 'last_name': 'einstein', 'location': 'princeton', 'field': 'physics', 'birth_year': 1879}\n"
     ]
    }
   ],
   "source": [
    "#Question no 10\n",
    "def build_profile(first, last, **info):\n",
    "    profile = {'first_name': first, 'last_name': last}\n",
    "    for key, value in info.items():\n",
    "        profile[key] = value\n",
    "    return profile\n",
    "user_profile = build_profile('Abdulrehman', 'Khalid',location='Lahore',field='BDA',birth_year=1879)\n",
    "print(user_profile)"
   ]
  },
  {
   "cell_type": "code",
   "execution_count": null,
   "id": "6cc81533-f0df-4b3d-9ba6-4a16d4b5b528",
   "metadata": {},
   "outputs": [],
   "source": []
  }
 ],
 "metadata": {
  "kernelspec": {
   "display_name": "Python 3 (ipykernel)",
   "language": "python",
   "name": "python3"
  },
  "language_info": {
   "codemirror_mode": {
    "name": "ipython",
    "version": 3
   },
   "file_extension": ".py",
   "mimetype": "text/x-python",
   "name": "python",
   "nbconvert_exporter": "python",
   "pygments_lexer": "ipython3",
   "version": "3.12.4"
  }
 },
 "nbformat": 4,
 "nbformat_minor": 5
}
